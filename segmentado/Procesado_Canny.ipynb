{
  "cells": [
    {
      "cell_type": "code",
      "execution_count": 65,
      "metadata": {
        "colab": {
          "base_uri": "https://localhost:8080/",
          "height": 39
        },
        "id": "p5b31cTtepbb",
        "outputId": "3f0573ea-057a-47db-917d-6e9b171827f0"
      },
      "outputs": [],
      "source": [
        "import pywt\n",
        "import pywt.data\n",
        "from PIL import Image\n",
        "import numpy as np\n",
        "import cv2\n",
        "import matplotlib.pyplot as plt\n",
        "import shutil\n",
        "import os\n",
        "import random\n",
        "from skimage.transform import resize\n",
        "\n",
        "import tensorflow\n",
        "import keras"
      ]
    },
    {
      "cell_type": "markdown",
      "metadata": {
        "id": "6Dsx9Bi_txTA"
      },
      "source": [
        "Primero creamos la carpeta fotos donde se guardarán las letras segmentadas:"
      ]
    },
    {
      "cell_type": "code",
      "execution_count": 66,
      "metadata": {
        "colab": {
          "base_uri": "https://localhost:8080/"
        },
        "id": "1tgNdgQMt1P4",
        "outputId": "53b60a35-1ddb-469d-d50c-58dc31a48985"
      },
      "outputs": [
        {
          "name": "stdout",
          "output_type": "stream",
          "text": [
            "La carpeta /fotos ha sido eliminada.\n"
          ]
        }
      ],
      "source": [
        "folder_path = '/fotos'\n",
        "folder_name = \"fotos\"\n",
        "\n",
        "if os.path.exists(folder_path):\n",
        "    shutil.rmtree(folder_path)\n",
        "    print(f\"La carpeta {folder_path} ha sido eliminada.\")\n",
        "\n",
        "else:\n",
        "    print(f\"La carpeta {folder_path} no existe.\")\n",
        "\n",
        "if not os.path.exists(folder_path):\n",
        "    os.makedirs(folder_path)"
      ]
    },
    {
      "cell_type": "markdown",
      "metadata": {
        "id": "m-pPx4Bmt5m2"
      },
      "source": [
        "Ahora cargamos nuestra imagen y la transformamos a escala de grises:"
      ]
    },
    {
      "cell_type": "code",
      "execution_count": 67,
      "metadata": {
        "id": "ZGgb1svguFpf"
      },
      "outputs": [],
      "source": [
        "image_path_in_colab=\"im_carlos.jpeg\"\n",
        "\n",
        "image = cv2.imread(image_path_in_colab)\n",
        "\n",
        "gray = cv2.cvtColor(image, cv2.COLOR_BGR2GRAY)"
      ]
    },
    {
      "cell_type": "markdown",
      "metadata": {
        "id": "_uiyEix8uJyc"
      },
      "source": [
        "Ahora, aplicamos el algoritmo de canny para detectar los bordes de la imagen, pasando a negro todo lo demás:"
      ]
    },
    {
      "cell_type": "code",
      "execution_count": 68,
      "metadata": {
        "id": "7A3T3v8_uTRU"
      },
      "outputs": [],
      "source": [
        "edged_image = cv2.Canny(gray, threshold1=30, threshold2=100)"
      ]
    },
    {
      "cell_type": "markdown",
      "metadata": {
        "id": "Lkz77TygublL"
      },
      "source": [
        "Ahora procedemos a segmentar la imagen detectando las letras como componentes conectados (agrupaciones conectadas entre sí). Gracias a realzar tanto los bordes, esta clasificación es posible, ya que son los que permite que el algoritmo detecte las componentes conectadas."
      ]
    },
    {
      "cell_type": "code",
      "execution_count": 69,
      "metadata": {
        "id": "NuS8f_F-uqqk"
      },
      "outputs": [],
      "source": [
        "regiones_recortadas = []\n",
        "areas=[]\n",
        "_, labels, stats, centroids = cv2.connectedComponentsWithStats(edged_image)\n",
        "\n",
        "for i, stat in enumerate(stats):\n",
        "    area = stat[cv2.CC_STAT_AREA]\n",
        "\n",
        "    if area > 100 and area < 700:\n",
        "        areas.append(area)\n",
        "\n",
        "        x, y, w, h = stat[cv2.CC_STAT_LEFT], stat[cv2.CC_STAT_TOP], stat[cv2.CC_STAT_WIDTH], stat[cv2.CC_STAT_HEIGHT]\n",
        "\n",
        "        roi = edged_image[y:y+h, x:x+w]\n",
        "        centroide = centroids[i]\n",
        "        regiones_recortadas.append((roi, centroide))"
      ]
    },
    {
      "cell_type": "markdown",
      "metadata": {
        "id": "wEmkcp1pu4u2"
      },
      "source": [
        "Debido a tener una imagen sin relleno, en letras como la O donde no todos los bordes están conectados entre sí detecta más de una letra. Para solucionarlo, vamos a ordenar estas componentes por area, y después vamos a eliminar una letra si está muy cerca de otra (centroides cercanos) y su area es más pequeña (para quedarnos con la letra más grande, que suele ser la original)."
      ]
    },
    {
      "cell_type": "code",
      "execution_count": 70,
      "metadata": {
        "id": "YS-1fEvHvUvc"
      },
      "outputs": [],
      "source": [
        "indices = list(range(1, len(areas)))\n",
        "\n",
        "indices_ordenados = sorted(indices, key=lambda i: areas[i - 1], reverse=True)\n",
        "\n",
        "regiones_recortadas = [regiones_recortadas[i] for i in indices_ordenados]\n",
        "\n",
        "distancia_minima = 40\n",
        "\n",
        "regiones_finales = []\n",
        "centroides_procesados = []\n",
        "\n",
        "for region, centroide in regiones_recortadas:\n",
        "    duplicada = False\n",
        "    for centroide_procesado in centroides_procesados:\n",
        "        distancia = np.sqrt(((centroide[0] - centroide_procesado[0]) ** 2) + ((centroide[1] - centroide_procesado[1]) ** 2))\n",
        "        if distancia < distancia_minima:\n",
        "            duplicada = True\n",
        "            break\n",
        "\n",
        "    if not duplicada:\n",
        "        regiones_finales.append((region, centroide))\n",
        "        centroides_procesados.append(centroide)\n",
        "\n",
        "regiones_finales = sorted(regiones_finales, key=lambda x: (x[1][0], x[1][1]))"
      ]
    },
    {
      "cell_type": "markdown",
      "metadata": {
        "id": "ODuhZKpwweVd"
      },
      "source": [
        "Ahora, para que nuestra red funcione correctamente, necesitamos que la letra no este hueca. Para solucionarlo, vamos a engrosar los bordes para rellenar la letra:"
      ]
    },
    {
      "cell_type": "code",
      "execution_count": 71,
      "metadata": {
        "id": "agiFX53LyDMy"
      },
      "outputs": [],
      "source": [
        "regiones_rellenadas = []\n",
        "kernel = cv2.getStructuringElement(cv2.MORPH_RECT, (3, 3))\n",
        "\n",
        "for region, centroide in regiones_finales:\n",
        "    dilated_region = cv2.dilate(region, kernel, iterations=3)\n",
        "    regiones_rellenadas.append((dilated_region, centroide))"
      ]
    },
    {
      "cell_type": "code",
      "execution_count": 72,
      "metadata": {
        "id": "gbPWSTw_qHBK"
      },
      "outputs": [],
      "source": [
        "regiones_redimensionadas=[]\n",
        "for i, (region, _) in enumerate(regiones_rellenadas):\n",
        "\n",
        "    border_size = int(region.shape[0] * .2)  #Porcentaje del 20 % del tamaño de la imagen como borde\n",
        "\n",
        "    # Crea el borde negro alrededor de la imagen\n",
        "    image_with_border = cv2.copyMakeBorder(\n",
        "    region,\n",
        "    top=border_size,\n",
        "    bottom=border_size,\n",
        "    left=border_size,\n",
        "    right=border_size,\n",
        "    borderType=cv2.BORDER_CONSTANT,\n",
        "    value=[0, 0, 0]\n",
        "    )\n",
        "\n",
        "    regiones_redimensionadas.append(image_with_border)"
      ]
    },
    {
      "cell_type": "markdown",
      "metadata": {
        "id": "C5291GSWyjG5"
      },
      "source": [
        "Por último, mostramos y guardamos las letras encontradas:"
      ]
    },
    {
      "cell_type": "code",
      "execution_count": 73,
      "metadata": {
        "colab": {
          "base_uri": "https://localhost:8080/",
          "height": 1000
        },
        "id": "x_rm6fVS_138",
        "outputId": "1ec33ddf-b9ed-40a9-ec2a-9f0d3bbb6164"
      },
      "outputs": [
        {
          "data": {
            "image/png": "[encoded data removed]",
            "text/plain": [
              "<Figure size 640x480 with 1 Axes>"
            ]
          },
          "metadata": {},
          "output_type": "display_data"
        }
      ],
      "source": [
        "for i, region in enumerate(regiones_redimensionadas):\n",
        "    cv2.imwrite(os.path.join(folder_path, f'letra_{i}.png'), region)\n",
        "\n",
        "    plt.imshow(region)\n",
        "plt.show()"
      ]
    },
    {
      "cell_type": "code",
      "execution_count": 74,
      "metadata": {
        "colab": {
          "base_uri": "https://localhost:8080/",
          "height": 579
        },
        "id": "9oP73XAo1rrS",
        "outputId": "7dab2be9-7394-4724-fa75-b095d22e78fe"
      },
      "outputs": [
        {
          "data": {
            "text/plain": [
              "<matplotlib.image.AxesImage at 0x1efe3f88590>"
            ]
          },
          "execution_count": 74,
          "metadata": {},
          "output_type": "execute_result"
        },
        {
          "data": {
            "image/png": "[encoded data removed]",
            "text/plain": [
              "<Figure size 640x480 with 1 Axes>"
            ]
          },
          "metadata": {},
          "output_type": "display_data"
        }
      ],
      "source": [
        "plt.imshow(edged_image)"
      ]
    },
    {
      "cell_type": "code",
      "execution_count": 75,
      "metadata": {},
      "outputs": [
        {
          "name": "stdout",
          "output_type": "stream",
          "text": [
            "1/1 [==============================] - 0s 79ms/step\n",
            "1/1 [==============================] - 0s 21ms/step\n",
            "1/1 [==============================] - 0s 17ms/step\n",
            "1/1 [==============================] - 0s 10ms/step\n",
            "1/1 [==============================] - 0s 12ms/step\n",
            "1/1 [==============================] - 0s 18ms/step\n",
            "1/1 [==============================] - 0s 17ms/step\n",
            "1/1 [==============================] - 0s 19ms/step\n",
            "1/1 [==============================] - 0s 12ms/step\n",
            "1/1 [==============================] - 0s 23ms/step\n",
            "1/1 [==============================] - 0s 21ms/step\n",
            "1/1 [==============================] - 0s 16ms/step\n",
            "1/1 [==============================] - 0s 15ms/step\n",
            "1/1 [==============================] - 0s 23ms/step\n",
            "1/1 [==============================] - 0s 18ms/step\n",
            "1/1 [==============================] - 0s 19ms/step\n",
            "1/1 [==============================] - 0s 19ms/step\n",
            "1/1 [==============================] - 0s 19ms/step\n",
            "1/1 [==============================] - 0s 16ms/step\n"
          ]
        },
        {
          "data": {
            "text/plain": [
              "<function matplotlib.pyplot.show(close=None, block=None)>"
            ]
          },
          "execution_count": 75,
          "metadata": {},
          "output_type": "execute_result"
        },
        {
          "data": {
            "image/png": "[encoded data removed]",
            "text/plain": [
              "<Figure size 1500x300 with 19 Axes>"
            ]
          },
          "metadata": {},
          "output_type": "display_data"
        }
      ],
      "source": [
        "ed_model_02 = tensorflow.keras.models.load_model('modelos\\modelo_C_02.keras')\n",
        "\n",
        "# Posibles etiquetas de resultado\n",
        "\n",
        "LABELS = ['0', '1', '2', '3', '4', '5', '6', '7', '8', '9', \n",
        "          'A', 'B', 'C', 'D', 'E', 'F', 'G', 'H', 'I', 'J', 'K', 'L', 'M', 'N', 'O', 'P', 'Q', 'R', 'S', 'T', 'U', 'V', 'W', 'X', 'Y', 'Z',\n",
        "          'a', 'b', 'd', 'e', 'f', 'g', 'h', 'n', 'q', 'r', 't']\n",
        "\n",
        "index_to_label = {i: label for i, label in enumerate(LABELS)}\n",
        "\n",
        "fig, axs = plt.subplots(1, len(regiones_redimensionadas), figsize=(15, 3))\n",
        "\n",
        "for i, region in enumerate(regiones_redimensionadas):\n",
        "\n",
        "    border_size = int(region.shape[0] * .2)  #Porcentaje del 20 % del tamaño de la imagen como borde\n",
        "\n",
        "    # Crea el borde negro alrededor de la imagen\n",
        "    image_with_border = cv2.copyMakeBorder(\n",
        "    region,\n",
        "    top=border_size,\n",
        "    bottom=border_size,\n",
        "    left=border_size,\n",
        "    right=border_size,\n",
        "    borderType=cv2.BORDER_CONSTANT,\n",
        "    value=[0, 0, 0]\n",
        "    )\n",
        "    resized_matrix = resize(image_with_border, (28, 28), anti_aliasing=False)\n",
        "    imagen_array = np.array(resized_matrix).reshape(1, 784)\n",
        "    imagen_normalizada = imagen_array.astype('float32')\n",
        "    normalized_image = (imagen_normalizada - np.min(imagen_normalizada)) / (np.max(imagen_normalizada) - np.min(imagen_normalizada))\n",
        "    prediction = ed_model_02.predict(normalized_image)\n",
        "    predicted_class = np.argmax(prediction)\n",
        "    predicted_label = index_to_label[predicted_class]\n",
        "    axs[i].imshow(imagen_normalizada.reshape(28, 28), cmap='gray')\n",
        "    axs[i].axis('off')\n",
        "    axs[i].set_title(f' {predicted_label}')\n",
        "plt.show"
      ]
    }
  ],
  "metadata": {
    "colab": {
      "provenance": []
    },
    "kernelspec": {
      "display_name": "Python 3",
      "name": "python3"
    },
    "language_info": {
      "codemirror_mode": {
        "name": "ipython",
        "version": 3
      },
      "file_extension": ".py",
      "mimetype": "text/x-python",
      "name": "python",
      "nbconvert_exporter": "python",
      "pygments_lexer": "ipython3",
      "version": "3.11.5"
    }
  },
  "nbformat": 4,
  "nbformat_minor": 0
}
